{
  "nbformat": 4,
  "nbformat_minor": 0,
  "metadata": {
    "colab": {
      "provenance": [],
      "authorship_tag": "ABX9TyPvWzp884BAFk4e8FYWDjBA",
      "include_colab_link": true
    },
    "kernelspec": {
      "name": "python3",
      "display_name": "Python 3"
    },
    "language_info": {
      "name": "python"
    }
  },
  "cells": [
    {
      "cell_type": "markdown",
      "metadata": {
        "id": "view-in-github",
        "colab_type": "text"
      },
      "source": [
        "<a href=\"https://colab.research.google.com/github/javaidiqbal11/movie_conversation_dysfunction_analysis/blob/main/main_file.ipynb\" target=\"_parent\"><img src=\"https://colab.research.google.com/assets/colab-badge.svg\" alt=\"Open In Colab\"/></a>"
      ]
    },
    {
      "cell_type": "markdown",
      "source": [
        "Mount the google drive with colab"
      ],
      "metadata": {
        "id": "CzJNdD2_PIPM"
      }
    },
    {
      "cell_type": "code",
      "source": [
        "from google.colab import drive\n",
        "drive.mount('/content/drive')"
      ],
      "metadata": {
        "colab": {
          "base_uri": "https://localhost:8080/"
        },
        "id": "X7aL5up_O-iX",
        "outputId": "d970194d-a25a-40bc-85e9-f6c66c88d276"
      },
      "execution_count": 1,
      "outputs": [
        {
          "output_type": "stream",
          "name": "stdout",
          "text": [
            "Mounted at /content/drive\n"
          ]
        }
      ]
    },
    {
      "cell_type": "markdown",
      "source": [
        "Sync the GitHub with Colab"
      ],
      "metadata": {
        "id": "ysHmBMRFPPUD"
      }
    },
    {
      "cell_type": "code",
      "source": [
        "! apt-get install git"
      ],
      "metadata": {
        "colab": {
          "base_uri": "https://localhost:8080/"
        },
        "id": "CHxKekMlPLVD",
        "outputId": "6681c5af-1718-4e36-e735-ff177533d5cc"
      },
      "execution_count": 2,
      "outputs": [
        {
          "output_type": "stream",
          "name": "stdout",
          "text": [
            "Reading package lists... Done\n",
            "Building dependency tree... Done\n",
            "Reading state information... Done\n",
            "git is already the newest version (1:2.34.1-1ubuntu1.10).\n",
            "0 upgraded, 0 newly installed, 0 to remove and 16 not upgraded.\n"
          ]
        }
      ]
    },
    {
      "cell_type": "markdown",
      "source": [
        "Clone our own repo"
      ],
      "metadata": {
        "id": "dh2mooMlPgtz"
      }
    },
    {
      "cell_type": "code",
      "source": [
        "!git clone https://github.com/javaidiqbal11/movie_conversation_dysfunction_analysis.git"
      ],
      "metadata": {
        "colab": {
          "base_uri": "https://localhost:8080/"
        },
        "id": "2UgVp76fPfzk",
        "outputId": "9b6c0934-bb68-41a5-ce8c-6355f0be0baa"
      },
      "execution_count": 23,
      "outputs": [
        {
          "output_type": "stream",
          "name": "stdout",
          "text": [
            "Cloning into 'movie_conversation_dysfunction_analysis'...\n",
            "remote: Enumerating objects: 3, done.\u001b[K\n",
            "remote: Counting objects: 100% (3/3), done.\u001b[K\n",
            "remote: Total 3 (delta 0), reused 0 (delta 0), pack-reused 0\u001b[K\n",
            "Receiving objects: 100% (3/3), done.\n"
          ]
        }
      ]
    },
    {
      "cell_type": "code",
      "source": [
        "import openai\n",
        "\n",
        "# Set your OpenAI API key here\n",
        "api_key = \"YOUR_API_KEY\"\n",
        "\n",
        "# Initialize the OpenAI API client\n",
        "openai.api_key = api_key\n",
        "\n",
        "# Define the initial message for the conversation\n",
        "initial_message = \"Two persons discussing a movie:\"\n",
        "\n",
        "# Start a conversation\n",
        "conversation = [initial_message]\n",
        "\n",
        "# Define a function to categorize the conversation into the five dysfunctions\n",
        "def categorize_conversation(conversation):\n",
        "    dysfunctions = {\n",
        "        \"inattention to results\": 0,\n",
        "        \"fear of conflict\": 0,\n",
        "        \"lack of commitment\": 0,\n",
        "        \"avoidance of accountability\": 0,\n",
        "        \"absence of trust\": 0\n",
        "    }\n",
        "\n",
        "    for message in conversation[1:]:\n",
        "        # Use OpenAI's ChatGPT to generate a response\n",
        "        response = openai.ChatCompletion.create(\n",
        "            model=\"gpt-3.5-turbo\",\n",
        "            messages=conversation\n",
        "        )\n",
        "\n",
        "        # Extract the generated message\n",
        "        generated_message = response['choices'][0]['message']['content']\n",
        "\n",
        "        # Categorize the message into one of the dysfunctions\n",
        "        # You can customize this part based on the content of the movie discussion\n",
        "        # For simplicity, we'll use some basic keyword matching\n",
        "        if \"results\" in generated_message:\n",
        "            dysfunctions[\"inattention to results\"] += 1\n",
        "        if \"conflict\" in generated_message:\n",
        "            dysfunctions[\"fear of conflict\"] += 1\n",
        "        if \"commitment\" in generated_message:\n",
        "            dysfunctions[\"lack of commitment\"] += 1\n",
        "        if \"accountability\" in generated_message:\n",
        "            dysfunctions[\"avoidance of accountability\"] += 1\n",
        "        if \"trust\" in generated_message:\n",
        "            dysfunctions[\"absence of trust\"] += 1\n",
        "\n",
        "        # Add the generated message to the conversation\n",
        "        conversation.append({\"role\": \"system\", \"content\": \"You are categorizing the conversation into the five dysfunctions.\"})\n",
        "        conversation.append({\"role\": \"user\", \"content\": generated_message})\n",
        "\n",
        "    return dysfunctions\n",
        "\n",
        "# Simulate the conversation and categorize it\n",
        "conversation_result = categorize_conversation(conversation)\n",
        "\n",
        "# Print the categorized results\n",
        "print(\"Categorized Dysfunctions:\")\n",
        "for dysfunction, count in conversation_result.items():\n",
        "    print(f\"{dysfunction}: {count}\")\n"
      ],
      "metadata": {
        "id": "-I1C1s9DTdjT"
      },
      "execution_count": null,
      "outputs": []
    }
  ]
}